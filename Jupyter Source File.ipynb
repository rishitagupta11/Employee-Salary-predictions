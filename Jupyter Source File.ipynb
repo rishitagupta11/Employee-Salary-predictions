{
  "cells": [
    {
      "cell_type": "code",
      "source": [
        "import numpy as np\n",
        "import pandas as pd\n",
        "import gradio as gr\n",
        "import pickle\n",
        "\n",
        "\n",
        "dataset = pd.read_csv('Employeess.csv')\n",
        "X = dataset.iloc[:, :-1].values\n",
        "y = dataset.iloc[:, -1].values\n",
        "\n",
        "\n",
        "from sklearn.model_selection import train_test_split\n",
        "X_train, X_test, y_train, y_test = train_test_split(X, y, test_size=0.2, random_state=0)\n",
        "\n",
        "\n",
        "from sklearn.linear_model import LinearRegression\n",
        "regressor = LinearRegression()\n",
        "regressor.fit(X_train, y_train)\n",
        "\n",
        "\n",
        "file = \"Employee.pkl\"\n",
        "fileobj = open(\"Employee.pkl\", \"wb\")\n",
        "pickle.dump(regressor, fileobj)\n",
        "fileobj.close()\n",
        "\n",
        "\n",
        "def predict(Experience_Years, Age):\n",
        "    try:\n",
        "        with open(\"Employee.pkl\", \"rb\") as fileobj:\n",
        "            regressor = pickle.load(fileobj)\n",
        "\n",
        "        input_features = np.array([[Experience_Years, Age]])\n",
        "        preds = regressor.predict(input_features)\n",
        "        return preds[0]\n",
        "    except ValueError:\n",
        "        return \"Invalid input. Please enter numeric values for Experience Years and Age.\"\n",
        "\n",
        "\n",
        "Experience_Years_input = gr.Number(label=\"Enter the Experience Years of the Individual\")\n",
        "Age_input = gr.Number(label=\"Enter Age of the individual\")\n",
        "output = gr.Textbox()\n",
        "app = gr.Interface(fn=predict, inputs=[Experience_Years_input, Age_input], outputs=output)\n",
        "\n",
        "\n",
        "app.launch()\n",
        "\n"
      ],
      "metadata": {
        "colab": {
          "base_uri": "https://localhost:8080/",
          "height": 614
        },
        "id": "rftVQTyiR3Eq",
        "outputId": "466e3270-76d9-4247-ff9f-b37704769740"
      },
      "execution_count": 61,
      "outputs": [
        {
          "output_type": "stream",
          "name": "stdout",
          "text": [
            "Colab notebook detected. To show errors in colab notebook, set debug=True in launch()\n",
            "Note: opening Chrome Inspector may crash demo inside Colab notebooks.\n",
            "\n",
            "To create a public link, set `share=True` in `launch()`.\n"
          ]
        },
        {
          "output_type": "display_data",
          "data": {
            "text/plain": [
              "<IPython.core.display.Javascript object>"
            ],
            "application/javascript": [
              "(async (port, path, width, height, cache, element) => {\n",
              "                        if (!google.colab.kernel.accessAllowed && !cache) {\n",
              "                            return;\n",
              "                        }\n",
              "                        element.appendChild(document.createTextNode(''));\n",
              "                        const url = await google.colab.kernel.proxyPort(port, {cache});\n",
              "\n",
              "                        const external_link = document.createElement('div');\n",
              "                        external_link.innerHTML = `\n",
              "                            <div style=\"font-family: monospace; margin-bottom: 0.5rem\">\n",
              "                                Running on <a href=${new URL(path, url).toString()} target=\"_blank\">\n",
              "                                    https://localhost:${port}${path}\n",
              "                                </a>\n",
              "                            </div>\n",
              "                        `;\n",
              "                        element.appendChild(external_link);\n",
              "\n",
              "                        const iframe = document.createElement('iframe');\n",
              "                        iframe.src = new URL(path, url).toString();\n",
              "                        iframe.height = height;\n",
              "                        iframe.allow = \"autoplay; camera; microphone; clipboard-read; clipboard-write;\"\n",
              "                        iframe.width = width;\n",
              "                        iframe.style.border = 0;\n",
              "                        element.appendChild(iframe);\n",
              "                    })(7869, \"/\", \"100%\", 500, false, window.element)"
            ]
          },
          "metadata": {}
        },
        {
          "output_type": "execute_result",
          "data": {
            "text/plain": []
          },
          "metadata": {},
          "execution_count": 61
        }
      ]
    }
  ],
  "metadata": {
    "colab": {
      "provenance": []
    },
    "kernelspec": {
      "display_name": "Python 3",
      "name": "python3"
    },
    "language_info": {
      "name": "python"
    }
  },
  "nbformat": 4,
  "nbformat_minor": 0
}